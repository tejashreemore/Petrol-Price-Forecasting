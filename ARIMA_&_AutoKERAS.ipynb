{
  "nbformat": 4,
  "nbformat_minor": 0,
  "metadata": {
    "colab": {
      "provenance": [],
      "authorship_tag": "ABX9TyOfN42gBspNolPwoA+pK1Ar",
      "include_colab_link": true
    },
    "kernelspec": {
      "name": "python3",
      "display_name": "Python 3"
    },
    "language_info": {
      "name": "python"
    }
  },
  "cells": [
    {
      "cell_type": "markdown",
      "metadata": {
        "id": "view-in-github",
        "colab_type": "text"
      },
      "source": [
        "<a href=\"https://colab.research.google.com/github/tejashreemore/Petrol-Price-Forecasting/blob/main/ARIMA_%26_AutoKERAS.ipynb\" target=\"_parent\"><img src=\"https://colab.research.google.com/assets/colab-badge.svg\" alt=\"Open In Colab\"/></a>"
      ]
    },
    {
      "cell_type": "markdown",
      "source": [
        "# **Using Auto ML**"
      ],
      "metadata": {
        "id": "4TgZKxfX6jLv"
      }
    },
    {
      "cell_type": "markdown",
      "source": [
        "## Installing Auto Keras"
      ],
      "metadata": {
        "id": "2Z4ArT8X69jI"
      }
    },
    {
      "cell_type": "code",
      "source": [
        "!pip install git+https://github.com/keras-team/keras-tuner.git@1.0.2rc1\n"
      ],
      "metadata": {
        "colab": {
          "base_uri": "https://localhost:8080/"
        },
        "id": "mvB5YHUI6ro6",
        "outputId": "4fe5e97e-3a88-4c0d-e1c6-138616c71d5f"
      },
      "execution_count": 30,
      "outputs": [
        {
          "output_type": "stream",
          "name": "stdout",
          "text": [
            "Collecting git+https://github.com/keras-team/keras-tuner.git@1.0.2rc1\n",
            "  Cloning https://github.com/keras-team/keras-tuner.git (to revision 1.0.2rc1) to /tmp/pip-req-build-dra6_8vq\n",
            "  Running command git clone --filter=blob:none --quiet https://github.com/keras-team/keras-tuner.git /tmp/pip-req-build-dra6_8vq\n",
            "  Running command git checkout -q 0fb69434a132093518e0e53d40020145ae192629\n",
            "  Resolved https://github.com/keras-team/keras-tuner.git to commit 0fb69434a132093518e0e53d40020145ae192629\n",
            "  Preparing metadata (setup.py) ... \u001b[?25l\u001b[?25hdone\n",
            "Requirement already satisfied: packaging in /usr/local/lib/python3.10/dist-packages (from keras-tuner==1.0.2rc1) (23.2)\n",
            "Requirement already satisfied: future in /usr/local/lib/python3.10/dist-packages (from keras-tuner==1.0.2rc1) (0.18.3)\n",
            "Requirement already satisfied: numpy in /usr/local/lib/python3.10/dist-packages (from keras-tuner==1.0.2rc1) (1.23.5)\n",
            "Requirement already satisfied: tabulate in /usr/local/lib/python3.10/dist-packages (from keras-tuner==1.0.2rc1) (0.9.0)\n",
            "Requirement already satisfied: terminaltables in /usr/local/lib/python3.10/dist-packages (from keras-tuner==1.0.2rc1) (3.1.10)\n",
            "Requirement already satisfied: colorama in /usr/local/lib/python3.10/dist-packages (from keras-tuner==1.0.2rc1) (0.4.6)\n",
            "Requirement already satisfied: tqdm in /usr/local/lib/python3.10/dist-packages (from keras-tuner==1.0.2rc1) (4.66.1)\n",
            "Requirement already satisfied: requests in /usr/local/lib/python3.10/dist-packages (from keras-tuner==1.0.2rc1) (2.31.0)\n",
            "Requirement already satisfied: scipy in /usr/local/lib/python3.10/dist-packages (from keras-tuner==1.0.2rc1) (1.11.4)\n",
            "Requirement already satisfied: scikit-learn in /usr/local/lib/python3.10/dist-packages (from keras-tuner==1.0.2rc1) (1.2.2)\n",
            "Requirement already satisfied: charset-normalizer<4,>=2 in /usr/local/lib/python3.10/dist-packages (from requests->keras-tuner==1.0.2rc1) (3.3.2)\n",
            "Requirement already satisfied: idna<4,>=2.5 in /usr/local/lib/python3.10/dist-packages (from requests->keras-tuner==1.0.2rc1) (3.6)\n",
            "Requirement already satisfied: urllib3<3,>=1.21.1 in /usr/local/lib/python3.10/dist-packages (from requests->keras-tuner==1.0.2rc1) (2.0.7)\n",
            "Requirement already satisfied: certifi>=2017.4.17 in /usr/local/lib/python3.10/dist-packages (from requests->keras-tuner==1.0.2rc1) (2023.11.17)\n",
            "Requirement already satisfied: joblib>=1.1.1 in /usr/local/lib/python3.10/dist-packages (from scikit-learn->keras-tuner==1.0.2rc1) (1.3.2)\n",
            "Requirement already satisfied: threadpoolctl>=2.0.0 in /usr/local/lib/python3.10/dist-packages (from scikit-learn->keras-tuner==1.0.2rc1) (3.2.0)\n",
            "Building wheels for collected packages: keras-tuner\n",
            "  Building wheel for keras-tuner (setup.py) ... \u001b[?25l\u001b[?25hdone\n",
            "  Created wheel for keras-tuner: filename=keras_tuner-1.0.2rc1-py3-none-any.whl size=85426 sha256=bb53e690d57f827c3c8020c09859252b2d8e6b67638a2df414af6e70fd1f5e55\n",
            "  Stored in directory: /tmp/pip-ephem-wheel-cache-if0jekxn/wheels/b8/e6/44/4b6aa4a149abdabe9752582dbd7d7ae0848e87fe71cd2c59ed\n",
            "Successfully built keras-tuner\n",
            "Installing collected packages: keras-tuner\n",
            "  Attempting uninstall: keras-tuner\n",
            "    Found existing installation: keras-tuner 1.4.6\n",
            "    Uninstalling keras-tuner-1.4.6:\n",
            "      Successfully uninstalled keras-tuner-1.4.6\n",
            "\u001b[31mERROR: pip's dependency resolver does not currently take into account all the packages that are installed. This behaviour is the source of the following dependency conflicts.\n",
            "autokeras 1.1.0 requires keras-tuner>=1.1.0, but you have keras-tuner 1.0.2rc1 which is incompatible.\u001b[0m\u001b[31m\n",
            "\u001b[0mSuccessfully installed keras-tuner-1.0.2rc1\n"
          ]
        }
      ]
    },
    {
      "cell_type": "code",
      "source": [
        "!pip install autokeras"
      ],
      "metadata": {
        "colab": {
          "base_uri": "https://localhost:8080/",
          "height": 1000
        },
        "id": "jQiwAl566_-y",
        "outputId": "d2d91e81-d7be-4512-cca7-821b10be775f"
      },
      "execution_count": 31,
      "outputs": [
        {
          "output_type": "stream",
          "name": "stdout",
          "text": [
            "Requirement already satisfied: autokeras in /usr/local/lib/python3.10/dist-packages (1.1.0)\n",
            "Requirement already satisfied: packaging in /usr/local/lib/python3.10/dist-packages (from autokeras) (23.2)\n",
            "Requirement already satisfied: tensorflow>=2.8.0 in /usr/local/lib/python3.10/dist-packages (from autokeras) (2.15.0)\n",
            "Collecting keras-tuner>=1.1.0 (from autokeras)\n",
            "  Using cached keras_tuner-1.4.6-py3-none-any.whl (128 kB)\n",
            "Requirement already satisfied: keras-nlp>=0.4.0 in /usr/local/lib/python3.10/dist-packages (from autokeras) (0.7.0)\n",
            "Requirement already satisfied: pandas in /usr/local/lib/python3.10/dist-packages (from autokeras) (1.5.3)\n",
            "Requirement already satisfied: keras-core in /usr/local/lib/python3.10/dist-packages (from keras-nlp>=0.4.0->autokeras) (0.1.7)\n",
            "Requirement already satisfied: absl-py in /usr/local/lib/python3.10/dist-packages (from keras-nlp>=0.4.0->autokeras) (1.4.0)\n",
            "Requirement already satisfied: numpy in /usr/local/lib/python3.10/dist-packages (from keras-nlp>=0.4.0->autokeras) (1.23.5)\n",
            "Requirement already satisfied: regex in /usr/local/lib/python3.10/dist-packages (from keras-nlp>=0.4.0->autokeras) (2023.6.3)\n",
            "Requirement already satisfied: rich in /usr/local/lib/python3.10/dist-packages (from keras-nlp>=0.4.0->autokeras) (13.7.0)\n",
            "Requirement already satisfied: dm-tree in /usr/local/lib/python3.10/dist-packages (from keras-nlp>=0.4.0->autokeras) (0.1.8)\n",
            "Requirement already satisfied: kagglehub in /usr/local/lib/python3.10/dist-packages (from keras-nlp>=0.4.0->autokeras) (0.1.5)\n",
            "Requirement already satisfied: tensorflow-text in /usr/local/lib/python3.10/dist-packages (from keras-nlp>=0.4.0->autokeras) (2.15.0)\n",
            "Requirement already satisfied: keras in /usr/local/lib/python3.10/dist-packages (from keras-tuner>=1.1.0->autokeras) (2.15.0)\n",
            "Requirement already satisfied: requests in /usr/local/lib/python3.10/dist-packages (from keras-tuner>=1.1.0->autokeras) (2.31.0)\n",
            "Requirement already satisfied: kt-legacy in /usr/local/lib/python3.10/dist-packages (from keras-tuner>=1.1.0->autokeras) (1.0.5)\n",
            "Requirement already satisfied: astunparse>=1.6.0 in /usr/local/lib/python3.10/dist-packages (from tensorflow>=2.8.0->autokeras) (1.6.3)\n",
            "Requirement already satisfied: flatbuffers>=23.5.26 in /usr/local/lib/python3.10/dist-packages (from tensorflow>=2.8.0->autokeras) (23.5.26)\n",
            "Requirement already satisfied: gast!=0.5.0,!=0.5.1,!=0.5.2,>=0.2.1 in /usr/local/lib/python3.10/dist-packages (from tensorflow>=2.8.0->autokeras) (0.5.4)\n",
            "Requirement already satisfied: google-pasta>=0.1.1 in /usr/local/lib/python3.10/dist-packages (from tensorflow>=2.8.0->autokeras) (0.2.0)\n",
            "Requirement already satisfied: h5py>=2.9.0 in /usr/local/lib/python3.10/dist-packages (from tensorflow>=2.8.0->autokeras) (3.9.0)\n",
            "Requirement already satisfied: libclang>=13.0.0 in /usr/local/lib/python3.10/dist-packages (from tensorflow>=2.8.0->autokeras) (16.0.6)\n",
            "Requirement already satisfied: ml-dtypes~=0.2.0 in /usr/local/lib/python3.10/dist-packages (from tensorflow>=2.8.0->autokeras) (0.2.0)\n",
            "Requirement already satisfied: opt-einsum>=2.3.2 in /usr/local/lib/python3.10/dist-packages (from tensorflow>=2.8.0->autokeras) (3.3.0)\n",
            "Requirement already satisfied: protobuf!=4.21.0,!=4.21.1,!=4.21.2,!=4.21.3,!=4.21.4,!=4.21.5,<5.0.0dev,>=3.20.3 in /usr/local/lib/python3.10/dist-packages (from tensorflow>=2.8.0->autokeras) (3.20.3)\n",
            "Requirement already satisfied: setuptools in /usr/local/lib/python3.10/dist-packages (from tensorflow>=2.8.0->autokeras) (67.7.2)\n",
            "Requirement already satisfied: six>=1.12.0 in /usr/local/lib/python3.10/dist-packages (from tensorflow>=2.8.0->autokeras) (1.16.0)\n",
            "Requirement already satisfied: termcolor>=1.1.0 in /usr/local/lib/python3.10/dist-packages (from tensorflow>=2.8.0->autokeras) (2.4.0)\n",
            "Requirement already satisfied: typing-extensions>=3.6.6 in /usr/local/lib/python3.10/dist-packages (from tensorflow>=2.8.0->autokeras) (4.5.0)\n",
            "Requirement already satisfied: wrapt<1.15,>=1.11.0 in /usr/local/lib/python3.10/dist-packages (from tensorflow>=2.8.0->autokeras) (1.14.1)\n",
            "Requirement already satisfied: tensorflow-io-gcs-filesystem>=0.23.1 in /usr/local/lib/python3.10/dist-packages (from tensorflow>=2.8.0->autokeras) (0.35.0)\n",
            "Requirement already satisfied: grpcio<2.0,>=1.24.3 in /usr/local/lib/python3.10/dist-packages (from tensorflow>=2.8.0->autokeras) (1.60.0)\n",
            "Requirement already satisfied: tensorboard<2.16,>=2.15 in /usr/local/lib/python3.10/dist-packages (from tensorflow>=2.8.0->autokeras) (2.15.1)\n",
            "Requirement already satisfied: tensorflow-estimator<2.16,>=2.15.0 in /usr/local/lib/python3.10/dist-packages (from tensorflow>=2.8.0->autokeras) (2.15.0)\n",
            "Requirement already satisfied: python-dateutil>=2.8.1 in /usr/local/lib/python3.10/dist-packages (from pandas->autokeras) (2.8.2)\n",
            "Requirement already satisfied: pytz>=2020.1 in /usr/local/lib/python3.10/dist-packages (from pandas->autokeras) (2023.3.post1)\n",
            "Requirement already satisfied: wheel<1.0,>=0.23.0 in /usr/local/lib/python3.10/dist-packages (from astunparse>=1.6.0->tensorflow>=2.8.0->autokeras) (0.42.0)\n",
            "Requirement already satisfied: google-auth<3,>=1.6.3 in /usr/local/lib/python3.10/dist-packages (from tensorboard<2.16,>=2.15->tensorflow>=2.8.0->autokeras) (2.17.3)\n",
            "Requirement already satisfied: google-auth-oauthlib<2,>=0.5 in /usr/local/lib/python3.10/dist-packages (from tensorboard<2.16,>=2.15->tensorflow>=2.8.0->autokeras) (1.2.0)\n",
            "Requirement already satisfied: markdown>=2.6.8 in /usr/local/lib/python3.10/dist-packages (from tensorboard<2.16,>=2.15->tensorflow>=2.8.0->autokeras) (3.5.2)\n",
            "Requirement already satisfied: tensorboard-data-server<0.8.0,>=0.7.0 in /usr/local/lib/python3.10/dist-packages (from tensorboard<2.16,>=2.15->tensorflow>=2.8.0->autokeras) (0.7.2)\n",
            "Requirement already satisfied: werkzeug>=1.0.1 in /usr/local/lib/python3.10/dist-packages (from tensorboard<2.16,>=2.15->tensorflow>=2.8.0->autokeras) (3.0.1)\n",
            "Requirement already satisfied: charset-normalizer<4,>=2 in /usr/local/lib/python3.10/dist-packages (from requests->keras-tuner>=1.1.0->autokeras) (3.3.2)\n",
            "Requirement already satisfied: idna<4,>=2.5 in /usr/local/lib/python3.10/dist-packages (from requests->keras-tuner>=1.1.0->autokeras) (3.6)\n",
            "Requirement already satisfied: urllib3<3,>=1.21.1 in /usr/local/lib/python3.10/dist-packages (from requests->keras-tuner>=1.1.0->autokeras) (2.0.7)\n",
            "Requirement already satisfied: certifi>=2017.4.17 in /usr/local/lib/python3.10/dist-packages (from requests->keras-tuner>=1.1.0->autokeras) (2023.11.17)\n",
            "Requirement already satisfied: tqdm in /usr/local/lib/python3.10/dist-packages (from kagglehub->keras-nlp>=0.4.0->autokeras) (4.66.1)\n",
            "Requirement already satisfied: namex in /usr/local/lib/python3.10/dist-packages (from keras-core->keras-nlp>=0.4.0->autokeras) (0.0.7)\n",
            "Requirement already satisfied: markdown-it-py>=2.2.0 in /usr/local/lib/python3.10/dist-packages (from rich->keras-nlp>=0.4.0->autokeras) (3.0.0)\n",
            "Requirement already satisfied: pygments<3.0.0,>=2.13.0 in /usr/local/lib/python3.10/dist-packages (from rich->keras-nlp>=0.4.0->autokeras) (2.16.1)\n",
            "Requirement already satisfied: tensorflow-hub>=0.13.0 in /usr/local/lib/python3.10/dist-packages (from tensorflow-text->keras-nlp>=0.4.0->autokeras) (0.15.0)\n",
            "Requirement already satisfied: cachetools<6.0,>=2.0.0 in /usr/local/lib/python3.10/dist-packages (from google-auth<3,>=1.6.3->tensorboard<2.16,>=2.15->tensorflow>=2.8.0->autokeras) (5.3.2)\n",
            "Requirement already satisfied: pyasn1-modules>=0.2.1 in /usr/local/lib/python3.10/dist-packages (from google-auth<3,>=1.6.3->tensorboard<2.16,>=2.15->tensorflow>=2.8.0->autokeras) (0.3.0)\n",
            "Requirement already satisfied: rsa<5,>=3.1.4 in /usr/local/lib/python3.10/dist-packages (from google-auth<3,>=1.6.3->tensorboard<2.16,>=2.15->tensorflow>=2.8.0->autokeras) (4.9)\n",
            "Requirement already satisfied: requests-oauthlib>=0.7.0 in /usr/local/lib/python3.10/dist-packages (from google-auth-oauthlib<2,>=0.5->tensorboard<2.16,>=2.15->tensorflow>=2.8.0->autokeras) (1.3.1)\n",
            "Requirement already satisfied: mdurl~=0.1 in /usr/local/lib/python3.10/dist-packages (from markdown-it-py>=2.2.0->rich->keras-nlp>=0.4.0->autokeras) (0.1.2)\n",
            "Requirement already satisfied: MarkupSafe>=2.1.1 in /usr/local/lib/python3.10/dist-packages (from werkzeug>=1.0.1->tensorboard<2.16,>=2.15->tensorflow>=2.8.0->autokeras) (2.1.3)\n",
            "Requirement already satisfied: pyasn1<0.6.0,>=0.4.6 in /usr/local/lib/python3.10/dist-packages (from pyasn1-modules>=0.2.1->google-auth<3,>=1.6.3->tensorboard<2.16,>=2.15->tensorflow>=2.8.0->autokeras) (0.5.1)\n",
            "Requirement already satisfied: oauthlib>=3.0.0 in /usr/local/lib/python3.10/dist-packages (from requests-oauthlib>=0.7.0->google-auth-oauthlib<2,>=0.5->tensorboard<2.16,>=2.15->tensorflow>=2.8.0->autokeras) (3.2.2)\n",
            "Installing collected packages: keras-tuner\n",
            "  Attempting uninstall: keras-tuner\n",
            "    Found existing installation: keras-tuner 1.0.2rc1\n",
            "    Uninstalling keras-tuner-1.0.2rc1:\n",
            "      Successfully uninstalled keras-tuner-1.0.2rc1\n",
            "Successfully installed keras-tuner-1.4.6\n"
          ]
        },
        {
          "output_type": "display_data",
          "data": {
            "application/vnd.colab-display-data+json": {
              "pip_warning": {
                "packages": [
                  "keras_tuner"
                ]
              }
            }
          },
          "metadata": {}
        }
      ]
    },
    {
      "cell_type": "code",
      "source": [
        "!pip show autokeras"
      ],
      "metadata": {
        "colab": {
          "base_uri": "https://localhost:8080/"
        },
        "id": "YKM5diEV7BZr",
        "outputId": "ad376057-edce-47ee-dce1-a98803b66a37"
      },
      "execution_count": 32,
      "outputs": [
        {
          "output_type": "stream",
          "name": "stdout",
          "text": [
            "Name: autokeras\n",
            "Version: 1.1.0\n",
            "Summary: AutoML for deep learning\n",
            "Home-page: http://autokeras.com\n",
            "Author: DATA Lab, Keras Team\n",
            "Author-email: jhfjhfj1@gmail.com\n",
            "License: Apache License 2.0\n",
            "Location: /usr/local/lib/python3.10/dist-packages\n",
            "Requires: keras-nlp, keras-tuner, packaging, pandas, tensorflow\n",
            "Required-by: \n"
          ]
        }
      ]
    },
    {
      "cell_type": "code",
      "execution_count": 33,
      "metadata": {
        "id": "SHX0T_5L5_oF"
      },
      "outputs": [],
      "source": [
        "import pandas as pd\n",
        "import numpy as np\n",
        "from statsmodels.tsa.arima.model import ARIMA\n",
        "from sklearn.preprocessing import MinMaxScaler\n",
        "from sklearn.metrics import mean_squared_error\n",
        "# from math import sqrt\n",
        "import tensorflow as tf\n",
        "import autokeras as ak"
      ]
    },
    {
      "cell_type": "code",
      "source": [
        "data = pd.read_csv(\"/content/train_data.csv\")\n",
        "data.rename(columns={\"Petrol (USD)\": \"Petrol\"}, inplace = True)\n",
        "data=data[data.Petrol<160].reset_index()['Petrol'] #remove outlier refer to data_analysis.ipynb"
      ],
      "metadata": {
        "id": "HIHY7JIE-Qgj"
      },
      "execution_count": 34,
      "outputs": []
    },
    {
      "cell_type": "code",
      "source": [
        "scaler=MinMaxScaler(feature_range=(0,1))\n",
        "df=scaler.fit_transform(np.array(data).reshape(-1,1))"
      ],
      "metadata": {
        "id": "sf5kdGin7ZMu"
      },
      "execution_count": 35,
      "outputs": []
    },
    {
      "cell_type": "code",
      "source": [
        "training_size=int(len(df)*0.65)\n",
        "test_size=len(df)-training_size\n",
        "train_data,test_data=df[0:training_size,:],df[training_size:len(df),:1]"
      ],
      "metadata": {
        "id": "k_MYHht27gVI"
      },
      "execution_count": 36,
      "outputs": []
    },
    {
      "cell_type": "code",
      "source": [
        "train_data.shape\n",
        "test_data.shape"
      ],
      "metadata": {
        "colab": {
          "base_uri": "https://localhost:8080/"
        },
        "id": "EEsTBlww7qjG",
        "outputId": "735b6847-9bcf-423f-9f4d-fa808324f75c"
      },
      "execution_count": 37,
      "outputs": [
        {
          "output_type": "execute_result",
          "data": {
            "text/plain": [
              "(284, 1)"
            ]
          },
          "metadata": {},
          "execution_count": 37
        }
      ]
    },
    {
      "cell_type": "markdown",
      "source": [
        "**Data Preprocessing**"
      ],
      "metadata": {
        "id": "VeIE2pmb7ttl"
      }
    },
    {
      "cell_type": "code",
      "source": [
        "# convert an array of values into a dataset matrix\n",
        "def create_dataset(dataset, time_step=1):\n",
        "\tdataX, dataY = [], []\n",
        "\tfor i in range(len(dataset)-time_step-1):\n",
        "\t\ta = dataset[i:(i+time_step), 0]   ###i=0, 0,1,2,3-----99   100\n",
        "\t\tdataX.append(a)\n",
        "\t\tdataY.append(dataset[i + time_step, 0])\n",
        "\treturn np.array(dataX), np.array(dataY)"
      ],
      "metadata": {
        "id": "psmJngUU7qlx"
      },
      "execution_count": 38,
      "outputs": []
    },
    {
      "cell_type": "code",
      "source": [
        "# reshape into X=t,t+1,t+2,t+3 and Y=t+4\n",
        "time_step = 100\n",
        "X_train, y_train = create_dataset(train_data, time_step)\n",
        "X_test, ytest = create_dataset(test_data, time_step)"
      ],
      "metadata": {
        "id": "cKcbgx2_7qrK"
      },
      "execution_count": 39,
      "outputs": []
    },
    {
      "cell_type": "code",
      "source": [
        "X_train"
      ],
      "metadata": {
        "colab": {
          "base_uri": "https://localhost:8080/"
        },
        "id": "UtiFVU0K8J5v",
        "outputId": "df2a8d67-d820-4021-fb5b-981fbbc07943"
      },
      "execution_count": 40,
      "outputs": [
        {
          "output_type": "execute_result",
          "data": {
            "text/plain": [
              "array([[0.00559152, 0.00382578, 0.00309005, ..., 0.16627428, 0.16524426,\n",
              "        0.1640671 ],\n",
              "       [0.00382578, 0.00309005, 0.00206004, ..., 0.16524426, 0.1640671 ,\n",
              "        0.16274279],\n",
              "       [0.00309005, 0.00206004, 0.00103002, ..., 0.1640671 , 0.16274279,\n",
              "        0.15538552],\n",
              "       ...,\n",
              "       [0.91024132, 0.91597999, 0.90847557, ..., 0.88419659, 0.88655091,\n",
              "        0.88743378],\n",
              "       [0.91597999, 0.90847557, 0.88802237, ..., 0.88655091, 0.88743378,\n",
              "        0.87154208],\n",
              "       [0.90847557, 0.88802237, 0.88449088, ..., 0.88743378, 0.87154208,\n",
              "        0.87639788]])"
            ]
          },
          "metadata": {},
          "execution_count": 40
        }
      ]
    },
    {
      "cell_type": "code",
      "source": [
        "y_train"
      ],
      "metadata": {
        "colab": {
          "base_uri": "https://localhost:8080/"
        },
        "id": "7_DPJKqU8J8c",
        "outputId": "0359acf2-8d7c-4c93-dfbd-239af59de157"
      },
      "execution_count": 41,
      "outputs": [
        {
          "output_type": "execute_result",
          "data": {
            "text/plain": [
              "array([0.16274279, 0.15538552, 0.14670394, 0.14420247, 0.15862272,\n",
              "       0.16642142, 0.18422602, 0.19540906, 0.19894055, 0.21100647,\n",
              "       0.21762802, 0.22130665, 0.22748676, 0.2405827 , 0.24367275,\n",
              "       0.2532372 , 0.29664509, 0.30694526, 0.29723367, 0.28134197,\n",
              "       0.28399058, 0.29487934, 0.29326074, 0.283402  , 0.26868746,\n",
              "       0.24014126, 0.21188935, 0.19334903, 0.19334903, 0.19114185,\n",
              "       0.19643908, 0.20114773, 0.20335491, 0.21115362, 0.21777516,\n",
              "       0.22572101, 0.23057681, 0.22836963, 0.22719247, 0.22645674,\n",
              "       0.2230724 , 0.22572101, 0.23513832, 0.24941142, 0.25853443,\n",
              "       0.27310182, 0.29458505, 0.31106533, 0.32254267, 0.32739847,\n",
              "       0.32636845, 0.32210124, 0.31121248, 0.30944673, 0.31312537,\n",
              "       0.31238964, 0.30547381, 0.30988817, 0.31606828, 0.33357858,\n",
              "       0.34682166, 0.34755739, 0.35079459, 0.34741024, 0.316804  ,\n",
              "       0.29708652, 0.27472042, 0.25412007, 0.22910536, 0.20585639,\n",
              "       0.18746321, 0.18231313, 0.17216009, 0.16965862, 0.16759859,\n",
              "       0.16671572, 0.16597999, 0.1656857 , 0.16553855, 0.19467334,\n",
              "       0.19849912, 0.20144202, 0.2007063 , 0.19791054, 0.18967039,\n",
              "       0.17760447, 0.16848146, 0.16789288, 0.17525015, 0.18231313,\n",
              "       0.18922896, 0.1990877 , 0.20997646, 0.216598  , 0.22233667,\n",
              "       0.23925839, 0.24970571, 0.26162448, 0.27545615, 0.28310771,\n",
              "       0.29752796, 0.30694526, 0.31636257, 0.32298411, 0.3281342 ,\n",
              "       0.32960565, 0.32886992, 0.32857563, 0.32592702, 0.32357269,\n",
              "       0.32371984, 0.32401413, 0.32357269, 0.32283696, 0.32062978,\n",
              "       0.31047675, 0.30591524, 0.30297234, 0.30047087, 0.30076516,\n",
              "       0.30459094, 0.32636845, 0.33740436, 0.33814008, 0.3472631 ,\n",
              "       0.35388464, 0.37007063, 0.39037669, 0.4011183 , 0.4108299 ,\n",
              "       0.41745144, 0.41877575, 0.41774573, 0.41671572, 0.41862861,\n",
              "       0.42907593, 0.43569747, 0.44158328, 0.44158328, 0.43878752,\n",
              "       0.43349029, 0.43393172, 0.44791054, 0.45659211, 0.46718658,\n",
              "       0.47380812, 0.48101825, 0.48396115, 0.48602119, 0.49146557,\n",
              "       0.50559152, 0.51927604, 0.53104768, 0.54193643, 0.57018835,\n",
              "       0.59711595, 0.61536198, 0.62757504, 0.63978811, 0.65082401,\n",
              "       0.65670983, 0.66318423, 0.66553855, 0.66494997, 0.62831077,\n",
              "       0.60108888, 0.5843143 , 0.55929959, 0.55635668, 0.5590053 ,\n",
              "       0.56415539, 0.5635668 , 0.53855209, 0.52442613, 0.51854032,\n",
              "       0.48307828, 0.41862861, 0.35918187, 0.34123014, 0.31901118,\n",
              "       0.30341377, 0.27339612, 0.25397293, 0.23469688, 0.21865803,\n",
              "       0.20306062, 0.19320188, 0.16494997, 0.17377869, 0.17628016,\n",
              "       0.19437905, 0.2052678 , 0.22174809, 0.2341083 , 0.23719835,\n",
              "       0.23646263, 0.23454974, 0.23469688, 0.23469688, 0.25220718,\n",
              "       0.28708064, 0.29281931, 0.30032372, 0.30782813, 0.31474397,\n",
              "       0.32931136, 0.34329017, 0.36330194, 0.37051207, 0.38816951,\n",
              "       0.40862272, 0.42083579, 0.42804591, 0.43201883, 0.42039435,\n",
              "       0.41215421, 0.41141848, 0.41421424, 0.42377869, 0.4377575 ,\n",
              "       0.44864626, 0.45467922, 0.48028252, 0.47410241, 0.46718658,\n",
              "       0.45953502, 0.45114773, 0.44879341, 0.45423779, 0.47895821,\n",
              "       0.48881695, 0.49867569, 0.50426722, 0.50794585, 0.50882872,\n",
              "       0.50662154, 0.50456151, 0.48940553, 0.4889641 , 0.51692172,\n",
              "       0.53722778, 0.55017657, 0.5541495 , 0.55473808, 0.55532666,\n",
              "       0.55444379, 0.54958799, 0.5622425 , 0.58122425, 0.60697469,\n",
              "       0.62360212, 0.63375515, 0.66333137, 0.67289582, 0.68187169,\n",
              "       0.68834609, 0.69114185, 0.69305474, 0.69290759, 0.67274868,\n",
              "       0.65229547, 0.64729253, 0.64243673, 0.64140671, 0.64258387,\n",
              "       0.64302531, 0.63537375, 0.6274279 , 0.62389641, 0.62242496,\n",
              "       0.62007063, 0.61992348, 0.60962331, 0.59991171, 0.59417304,\n",
              "       0.59520306, 0.60108888, 0.60594467, 0.61506769, 0.62639788,\n",
              "       0.63375515, 0.64052384, 0.64699823, 0.65420836, 0.65612125,\n",
              "       0.65891701, 0.66215421, 0.68172454, 0.69849912, 0.70776928,\n",
              "       0.7243967 , 0.7451442 , 0.78266627, 0.78958211, 0.79664509,\n",
              "       0.79958799, 0.8009123 , 0.80223661, 0.80503237, 0.816804  ,\n",
              "       0.83975868, 0.85300177, 0.86668629, 0.85682755, 0.86227192,\n",
              "       0.87507357, 0.89537964, 0.90361978, 0.91347852, 0.92466157,\n",
              "       0.91509712, 0.9108299 , 0.90288405, 0.90361978, 0.90715127,\n",
              "       0.90965274, 0.89243673, 0.87139494, 0.88243084, 0.89405533,\n",
              "       0.90420836, 0.91024132, 0.91597999, 0.90847557, 0.88802237,\n",
              "       0.88449088, 0.88890524, 0.89449676, 0.90038258, 0.90406121,\n",
              "       0.89479105, 0.88669806, 0.88699235, 0.88949382, 0.89052384,\n",
              "       0.88581519, 0.87507357, 0.87065921, 0.86756916, 0.86183049,\n",
              "       0.85815185, 0.85756327, 0.85638611, 0.85623896, 0.86035903,\n",
              "       0.8693349 , 0.87566215, 0.88125368, 0.88346086, 0.89302531,\n",
              "       0.89758682, 0.91230135, 0.9283402 , 0.93716892, 0.95276633,\n",
              "       0.96041789, 0.98263685, 0.99705709, 1.        , 0.99396704,\n",
              "       0.98278399, 0.97012949, 0.94290759, 0.90582696, 0.8852266 ,\n",
              "       0.8806651 , 0.87492643, 0.850206  , 0.84373161, 0.82828134,\n",
              "       0.83652148, 0.84284873, 0.8534432 , 0.86183049, 0.87080636,\n",
              "       0.88375515, 0.90509123, 0.92539729, 0.93908181, 0.95203061,\n",
              "       0.95953502, 0.96130077, 0.94496763, 0.94217187, 0.94379046,\n",
              "       0.94290759, 0.92363155, 0.91553855, 0.89582107, 0.88802237,\n",
              "       0.88537375, 0.86580341, 0.85844614, 0.85005886, 0.84961742,\n",
              "       0.84917599, 0.84829311, 0.85035315, 0.8534432 , 0.86433196,\n",
              "       0.88537375, 0.9027369 , 0.9218658 , 0.94599765, 0.96027075,\n",
              "       0.96806945, 0.93246027, 0.92525015, 0.9283402 , 0.92848735,\n",
              "       0.92554444, 0.90450265, 0.88949382, 0.87124779, 0.86683343,\n",
              "       0.86756916, 0.87448499, 0.88037081, 0.88419659, 0.88655091,\n",
              "       0.88743378, 0.87154208, 0.87639788, 0.89376104])"
            ]
          },
          "metadata": {},
          "execution_count": 41
        }
      ]
    },
    {
      "cell_type": "code",
      "source": [
        "print(X_train.shape), print(y_train.shape)"
      ],
      "metadata": {
        "colab": {
          "base_uri": "https://localhost:8080/"
        },
        "id": "e6iHQ6Kr8J_U",
        "outputId": "cf835831-bf1b-441e-8131-baeacf93f221"
      },
      "execution_count": 42,
      "outputs": [
        {
          "output_type": "stream",
          "name": "stdout",
          "text": [
            "(424, 100)\n",
            "(424,)\n"
          ]
        },
        {
          "output_type": "execute_result",
          "data": {
            "text/plain": [
              "(None, None)"
            ]
          },
          "metadata": {},
          "execution_count": 42
        }
      ]
    },
    {
      "cell_type": "code",
      "source": [
        "reg = ak.StructuredDataRegressor(\n",
        "    overwrite=True, max_trials=3\n",
        ")"
      ],
      "metadata": {
        "id": "rFbTxvr27I-D"
      },
      "execution_count": 43,
      "outputs": []
    },
    {
      "cell_type": "code",
      "source": [
        "reg.fit(x=X_train, y=y_train, verbose=0)"
      ],
      "metadata": {
        "colab": {
          "base_uri": "https://localhost:8080/"
        },
        "id": "QiLXvv7H8SPj",
        "outputId": "16e54c36-fcc1-4190-a5f1-87bc388411e8"
      },
      "execution_count": 44,
      "outputs": [
        {
          "output_type": "execute_result",
          "data": {
            "text/plain": [
              "<keras.src.callbacks.History at 0x792cbae01360>"
            ]
          },
          "metadata": {},
          "execution_count": 44
        }
      ]
    },
    {
      "cell_type": "code",
      "source": [
        "\n",
        "# evaluate the model\n",
        "mae, _  = reg.evaluate(X_test, ytest, verbose=0)\n",
        "#print('MAE: %.3f' % mae)\n",
        "# use the model to make a prediction\n",
        "yhat_test = reg.predict(X_test)\n",
        "\n",
        "# get the best performing model\n",
        "model = reg.export_model()\n"
      ],
      "metadata": {
        "colab": {
          "base_uri": "https://localhost:8080/"
        },
        "id": "MybwY8kx8cgh",
        "outputId": "350b33df-86a2-4ed7-8de8-2962a9343cb4"
      },
      "execution_count": 45,
      "outputs": [
        {
          "output_type": "stream",
          "name": "stdout",
          "text": [
            "6/6 [==============================] - 0s 4ms/step\n",
            "6/6 [==============================] - 0s 4ms/step\n"
          ]
        }
      ]
    },
    {
      "cell_type": "code",
      "source": [
        "# summarize the loaded model\n",
        "model.summary()"
      ],
      "metadata": {
        "colab": {
          "base_uri": "https://localhost:8080/"
        },
        "id": "kdKwRy0Y8e94",
        "outputId": "b825b4cb-9609-4d17-81a3-9ed8ee3633f5"
      },
      "execution_count": 46,
      "outputs": [
        {
          "output_type": "stream",
          "name": "stdout",
          "text": [
            "Model: \"model\"\n",
            "_________________________________________________________________\n",
            " Layer (type)                Output Shape              Param #   \n",
            "=================================================================\n",
            " input_1 (InputLayer)        [(None, 100)]             0         \n",
            "                                                                 \n",
            " multi_category_encoding (M  (None, 100)               0         \n",
            " ultiCategoryEncoding)                                           \n",
            "                                                                 \n",
            " dense (Dense)               (None, 128)               12928     \n",
            "                                                                 \n",
            " re_lu (ReLU)                (None, 128)               0         \n",
            "                                                                 \n",
            " dense_1 (Dense)             (None, 32)                4128      \n",
            "                                                                 \n",
            " re_lu_1 (ReLU)              (None, 32)                0         \n",
            "                                                                 \n",
            " regression_head_1 (Dense)   (None, 1)                 33        \n",
            "                                                                 \n",
            "=================================================================\n",
            "Total params: 17089 (66.75 KB)\n",
            "Trainable params: 17089 (66.75 KB)\n",
            "Non-trainable params: 0 (0.00 Byte)\n",
            "_________________________________________________________________\n"
          ]
        }
      ]
    },
    {
      "cell_type": "code",
      "source": [
        "yhat_train= reg.predict(X_train)"
      ],
      "metadata": {
        "colab": {
          "base_uri": "https://localhost:8080/"
        },
        "id": "j2v-FhuF8fAI",
        "outputId": "d1e36b88-fcf0-47c1-fd2a-5e10e372fcba"
      },
      "execution_count": 51,
      "outputs": [
        {
          "output_type": "stream",
          "name": "stdout",
          "text": [
            "14/14 [==============================] - 0s 3ms/step\n",
            "14/14 [==============================] - 0s 3ms/step\n"
          ]
        }
      ]
    },
    {
      "cell_type": "code",
      "source": [
        "mean_squared_error(ytest,yhat_test)"
      ],
      "metadata": {
        "colab": {
          "base_uri": "https://localhost:8080/"
        },
        "id": "srk7QHdE8mtB",
        "outputId": "d0459338-0c3e-4b6f-d429-22c6b22545c3"
      },
      "execution_count": 52,
      "outputs": [
        {
          "output_type": "execute_result",
          "data": {
            "text/plain": [
              "0.005054416754428976"
            ]
          },
          "metadata": {},
          "execution_count": 52
        }
      ]
    },
    {
      "cell_type": "code",
      "source": [
        "mean_squared_error(y_train,yhat_train)"
      ],
      "metadata": {
        "colab": {
          "base_uri": "https://localhost:8080/"
        },
        "id": "PxvviNFT8mvf",
        "outputId": "f70c87ef-d5d9-4c84-a36c-2223c3d374e4"
      },
      "execution_count": 53,
      "outputs": [
        {
          "output_type": "execute_result",
          "data": {
            "text/plain": [
              "0.0044248017773317215"
            ]
          },
          "metadata": {},
          "execution_count": 53
        }
      ]
    },
    {
      "cell_type": "markdown",
      "source": [
        "# **Using ARIMA**"
      ],
      "metadata": {
        "id": "RMj3rVMe86wq"
      }
    },
    {
      "cell_type": "code",
      "source": [
        "model1 = ARIMA(data.values, order=(5,1,0))\n",
        "model_fit1 = model1.fit()\n",
        "output1= model_fit1.forecast(steps=30)\n",
        "output1"
      ],
      "metadata": {
        "colab": {
          "base_uri": "https://localhost:8080/"
        },
        "id": "7VWkG3Vt6Y4F",
        "outputId": "61de7124-1e4f-4d87-9ae7-d3742d609590"
      },
      "execution_count": 54,
      "outputs": [
        {
          "output_type": "execute_result",
          "data": {
            "text/plain": [
              "array([119.80670599, 119.52143354, 119.30634698, 119.14818605,\n",
              "       119.02925494, 118.93899217, 118.87071727, 118.81917633,\n",
              "       118.78030453, 118.75097725, 118.72884028, 118.71213018,\n",
              "       118.69951765, 118.6899984 , 118.68281381, 118.67739118,\n",
              "       118.6732984 , 118.67020932, 118.66787782, 118.66611809,\n",
              "       118.66478993, 118.66378748, 118.66303088, 118.66245982,\n",
              "       118.66202882, 118.66170351, 118.66145798, 118.66127267,\n",
              "       118.6611328 , 118.66102723])"
            ]
          },
          "metadata": {},
          "execution_count": 54
        }
      ]
    }
  ]
}