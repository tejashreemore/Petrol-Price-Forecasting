{
  "nbformat": 4,
  "nbformat_minor": 0,
  "metadata": {
    "colab": {
      "provenance": [],
      "authorship_tag": "ABX9TyMuGg15c4KOM8rpldPymfhh",
      "include_colab_link": true
    },
    "kernelspec": {
      "name": "python3",
      "display_name": "Python 3"
    },
    "language_info": {
      "name": "python"
    }
  },
  "cells": [
    {
      "cell_type": "markdown",
      "metadata": {
        "id": "view-in-github",
        "colab_type": "text"
      },
      "source": [
        "<a href=\"https://colab.research.google.com/github/tejashreemore/Petrol-Price-Forecasting/blob/main/lstm_training.ipynb\" target=\"_parent\"><img src=\"https://colab.research.google.com/assets/colab-badge.svg\" alt=\"Open In Colab\"/></a>"
      ]
    },
    {
      "cell_type": "code",
      "metadata": {
        "id": "pwJAEFLzE_ia"
      },
      "source": [
        "import pandas as pd\n",
        "import numpy as np\n",
        "\n",
        "from sklearn.preprocessing import MinMaxScaler"
      ],
      "execution_count": 1,
      "outputs": []
    },
    {
      "cell_type": "code",
      "source": [
        "data = pd.read_csv(\"/content/train_data.csv\")\n",
        "data.rename(columns={\"Petrol (USD)\": \"Petrol\"}, inplace = True)\n",
        "data=data[data.Petrol<160].reset_index()['Petrol'] #remove outlier refer to data_analysis.ipynb\n",
        "data.head()"
      ],
      "metadata": {
        "colab": {
          "base_uri": "https://localhost:8080/"
        },
        "id": "JOdvLMfAyxHR",
        "outputId": "986852a3-7af0-4f53-b273-abdfed86a42b"
      },
      "execution_count": 2,
      "outputs": [
        {
          "output_type": "execute_result",
          "data": {
            "text/plain": [
              "0    74.59\n",
              "1    74.47\n",
              "2    74.42\n",
              "3    74.35\n",
              "4    74.28\n",
              "Name: Petrol, dtype: float64"
            ]
          },
          "metadata": {},
          "execution_count": 2
        }
      ]
    },
    {
      "cell_type": "code",
      "source": [
        "\n",
        "scaler=MinMaxScaler(feature_range=(0,1))\n",
        "df=scaler.fit_transform(np.array(data).reshape(-1,1))\n",
        "df[:10]"
      ],
      "metadata": {
        "colab": {
          "base_uri": "https://localhost:8080/"
        },
        "id": "gaNf8V5gyxJ2",
        "outputId": "3e2676b5-0fee-4322-f814-790ce7da1eef"
      },
      "execution_count": 3,
      "outputs": [
        {
          "output_type": "execute_result",
          "data": {
            "text/plain": [
              "array([[0.00559152],\n",
              "       [0.00382578],\n",
              "       [0.00309005],\n",
              "       [0.00206004],\n",
              "       [0.00103002],\n",
              "       [0.        ],\n",
              "       [0.0126545 ],\n",
              "       [0.01309594],\n",
              "       [0.01339023],\n",
              "       [0.01809888]])"
            ]
          },
          "metadata": {},
          "execution_count": 3
        }
      ]
    },
    {
      "cell_type": "code",
      "source": [
        "df.shape"
      ],
      "metadata": {
        "colab": {
          "base_uri": "https://localhost:8080/"
        },
        "id": "Km81sba8K6GT",
        "outputId": "e42f5573-56b7-48d0-8c4a-65c6dee68d22"
      },
      "execution_count": 4,
      "outputs": [
        {
          "output_type": "execute_result",
          "data": {
            "text/plain": [
              "(809, 1)"
            ]
          },
          "metadata": {},
          "execution_count": 4
        }
      ]
    },
    {
      "cell_type": "code",
      "source": [
        "training_size=int(len(df)*0.65)\n",
        "test_size=len(df)-training_size\n",
        "train_data,test_data=df[0:training_size,:],df[training_size:len(df),:1]"
      ],
      "metadata": {
        "id": "c-R9YiRYyxMn"
      },
      "execution_count": 5,
      "outputs": []
    },
    {
      "cell_type": "code",
      "source": [
        "print(train_data.shape)\n",
        "print(test_data.shape)"
      ],
      "metadata": {
        "colab": {
          "base_uri": "https://localhost:8080/"
        },
        "id": "XFqWC_TGzjGs",
        "outputId": "f00a02db-6958-4323-94d5-4b2484869a52"
      },
      "execution_count": 6,
      "outputs": [
        {
          "output_type": "stream",
          "name": "stdout",
          "text": [
            "(525, 1)\n",
            "(284, 1)\n"
          ]
        }
      ]
    },
    {
      "cell_type": "markdown",
      "source": [
        "**Data Preprocessing**"
      ],
      "metadata": {
        "id": "1xPs6ab6zl08"
      }
    },
    {
      "cell_type": "code",
      "source": [
        "import numpy\n",
        "# convert an array of values into a dataset matrix\n",
        "def create_dataset(dataset, time_step=1):\n",
        "\tdataX, dataY = [], []\n",
        "\tfor i in range(len(dataset)-time_step-1):\n",
        "\t\ta = dataset[i:(i+time_step), 0]   ###i=0, 0,1,2,3-----99   100\n",
        "\t\tdataX.append(a)\n",
        "\t\tdataY.append(dataset[i + time_step, 0])\n",
        "\treturn numpy.array(dataX), numpy.array(dataY)"
      ],
      "metadata": {
        "id": "n48G6mcKyxPQ"
      },
      "execution_count": 7,
      "outputs": []
    },
    {
      "cell_type": "code",
      "source": [
        "# Example\n",
        "\n",
        "# train data                              test data\n",
        "# 120,125,115,119,130,...                 132,115,142,165,...\n",
        "\n",
        "# time step = 3\n",
        "\n",
        "# dataX             dataY                (same will happen with test data)\n",
        "# f1   f2   f3      output\n",
        "# 120  125  115     119\n",
        "# 125  115  119     130\n",
        "# .                  .\n",
        "# .                  ."
      ],
      "metadata": {
        "id": "9zV3yS6e60B7"
      },
      "execution_count": 8,
      "outputs": []
    },
    {
      "cell_type": "code",
      "source": [
        "# reshape into X=t,t+1,t+2,t+3 and Y=t+4\n",
        "time_step = 100\n",
        "X_train, y_train = create_dataset(train_data, time_step)\n",
        "X_test, ytest = create_dataset(test_data, time_step)"
      ],
      "metadata": {
        "id": "gpc9M8jMyxRm"
      },
      "execution_count": 9,
      "outputs": []
    },
    {
      "cell_type": "code",
      "source": [
        "X_train =X_train.reshape(X_train.shape[0],X_train.shape[1] , 1)\n",
        "X_test = X_test.reshape(X_test.shape[0],X_test.shape[1] , 1)"
      ],
      "metadata": {
        "id": "fpTuwAWgyxUI"
      },
      "execution_count": 10,
      "outputs": []
    },
    {
      "cell_type": "code",
      "source": [
        "X_train"
      ],
      "metadata": {
        "colab": {
          "base_uri": "https://localhost:8080/"
        },
        "id": "JHvE8oTIzrHs",
        "outputId": "ff2b57ca-dbe6-4ce4-9e05-5cb48eb7c2bf"
      },
      "execution_count": 11,
      "outputs": [
        {
          "output_type": "execute_result",
          "data": {
            "text/plain": [
              "array([[[0.00559152],\n",
              "        [0.00382578],\n",
              "        [0.00309005],\n",
              "        ...,\n",
              "        [0.16627428],\n",
              "        [0.16524426],\n",
              "        [0.1640671 ]],\n",
              "\n",
              "       [[0.00382578],\n",
              "        [0.00309005],\n",
              "        [0.00206004],\n",
              "        ...,\n",
              "        [0.16524426],\n",
              "        [0.1640671 ],\n",
              "        [0.16274279]],\n",
              "\n",
              "       [[0.00309005],\n",
              "        [0.00206004],\n",
              "        [0.00103002],\n",
              "        ...,\n",
              "        [0.1640671 ],\n",
              "        [0.16274279],\n",
              "        [0.15538552]],\n",
              "\n",
              "       ...,\n",
              "\n",
              "       [[0.91024132],\n",
              "        [0.91597999],\n",
              "        [0.90847557],\n",
              "        ...,\n",
              "        [0.88419659],\n",
              "        [0.88655091],\n",
              "        [0.88743378]],\n",
              "\n",
              "       [[0.91597999],\n",
              "        [0.90847557],\n",
              "        [0.88802237],\n",
              "        ...,\n",
              "        [0.88655091],\n",
              "        [0.88743378],\n",
              "        [0.87154208]],\n",
              "\n",
              "       [[0.90847557],\n",
              "        [0.88802237],\n",
              "        [0.88449088],\n",
              "        ...,\n",
              "        [0.88743378],\n",
              "        [0.87154208],\n",
              "        [0.87639788]]])"
            ]
          },
          "metadata": {},
          "execution_count": 11
        }
      ]
    },
    {
      "cell_type": "code",
      "source": [
        "y_train"
      ],
      "metadata": {
        "colab": {
          "base_uri": "https://localhost:8080/"
        },
        "id": "4ZPkR5ChzrPV",
        "outputId": "dc36a722-c493-4ec3-946a-ecb9ac55b384"
      },
      "execution_count": 12,
      "outputs": [
        {
          "output_type": "execute_result",
          "data": {
            "text/plain": [
              "array([0.16274279, 0.15538552, 0.14670394, 0.14420247, 0.15862272,\n",
              "       0.16642142, 0.18422602, 0.19540906, 0.19894055, 0.21100647,\n",
              "       0.21762802, 0.22130665, 0.22748676, 0.2405827 , 0.24367275,\n",
              "       0.2532372 , 0.29664509, 0.30694526, 0.29723367, 0.28134197,\n",
              "       0.28399058, 0.29487934, 0.29326074, 0.283402  , 0.26868746,\n",
              "       0.24014126, 0.21188935, 0.19334903, 0.19334903, 0.19114185,\n",
              "       0.19643908, 0.20114773, 0.20335491, 0.21115362, 0.21777516,\n",
              "       0.22572101, 0.23057681, 0.22836963, 0.22719247, 0.22645674,\n",
              "       0.2230724 , 0.22572101, 0.23513832, 0.24941142, 0.25853443,\n",
              "       0.27310182, 0.29458505, 0.31106533, 0.32254267, 0.32739847,\n",
              "       0.32636845, 0.32210124, 0.31121248, 0.30944673, 0.31312537,\n",
              "       0.31238964, 0.30547381, 0.30988817, 0.31606828, 0.33357858,\n",
              "       0.34682166, 0.34755739, 0.35079459, 0.34741024, 0.316804  ,\n",
              "       0.29708652, 0.27472042, 0.25412007, 0.22910536, 0.20585639,\n",
              "       0.18746321, 0.18231313, 0.17216009, 0.16965862, 0.16759859,\n",
              "       0.16671572, 0.16597999, 0.1656857 , 0.16553855, 0.19467334,\n",
              "       0.19849912, 0.20144202, 0.2007063 , 0.19791054, 0.18967039,\n",
              "       0.17760447, 0.16848146, 0.16789288, 0.17525015, 0.18231313,\n",
              "       0.18922896, 0.1990877 , 0.20997646, 0.216598  , 0.22233667,\n",
              "       0.23925839, 0.24970571, 0.26162448, 0.27545615, 0.28310771,\n",
              "       0.29752796, 0.30694526, 0.31636257, 0.32298411, 0.3281342 ,\n",
              "       0.32960565, 0.32886992, 0.32857563, 0.32592702, 0.32357269,\n",
              "       0.32371984, 0.32401413, 0.32357269, 0.32283696, 0.32062978,\n",
              "       0.31047675, 0.30591524, 0.30297234, 0.30047087, 0.30076516,\n",
              "       0.30459094, 0.32636845, 0.33740436, 0.33814008, 0.3472631 ,\n",
              "       0.35388464, 0.37007063, 0.39037669, 0.4011183 , 0.4108299 ,\n",
              "       0.41745144, 0.41877575, 0.41774573, 0.41671572, 0.41862861,\n",
              "       0.42907593, 0.43569747, 0.44158328, 0.44158328, 0.43878752,\n",
              "       0.43349029, 0.43393172, 0.44791054, 0.45659211, 0.46718658,\n",
              "       0.47380812, 0.48101825, 0.48396115, 0.48602119, 0.49146557,\n",
              "       0.50559152, 0.51927604, 0.53104768, 0.54193643, 0.57018835,\n",
              "       0.59711595, 0.61536198, 0.62757504, 0.63978811, 0.65082401,\n",
              "       0.65670983, 0.66318423, 0.66553855, 0.66494997, 0.62831077,\n",
              "       0.60108888, 0.5843143 , 0.55929959, 0.55635668, 0.5590053 ,\n",
              "       0.56415539, 0.5635668 , 0.53855209, 0.52442613, 0.51854032,\n",
              "       0.48307828, 0.41862861, 0.35918187, 0.34123014, 0.31901118,\n",
              "       0.30341377, 0.27339612, 0.25397293, 0.23469688, 0.21865803,\n",
              "       0.20306062, 0.19320188, 0.16494997, 0.17377869, 0.17628016,\n",
              "       0.19437905, 0.2052678 , 0.22174809, 0.2341083 , 0.23719835,\n",
              "       0.23646263, 0.23454974, 0.23469688, 0.23469688, 0.25220718,\n",
              "       0.28708064, 0.29281931, 0.30032372, 0.30782813, 0.31474397,\n",
              "       0.32931136, 0.34329017, 0.36330194, 0.37051207, 0.38816951,\n",
              "       0.40862272, 0.42083579, 0.42804591, 0.43201883, 0.42039435,\n",
              "       0.41215421, 0.41141848, 0.41421424, 0.42377869, 0.4377575 ,\n",
              "       0.44864626, 0.45467922, 0.48028252, 0.47410241, 0.46718658,\n",
              "       0.45953502, 0.45114773, 0.44879341, 0.45423779, 0.47895821,\n",
              "       0.48881695, 0.49867569, 0.50426722, 0.50794585, 0.50882872,\n",
              "       0.50662154, 0.50456151, 0.48940553, 0.4889641 , 0.51692172,\n",
              "       0.53722778, 0.55017657, 0.5541495 , 0.55473808, 0.55532666,\n",
              "       0.55444379, 0.54958799, 0.5622425 , 0.58122425, 0.60697469,\n",
              "       0.62360212, 0.63375515, 0.66333137, 0.67289582, 0.68187169,\n",
              "       0.68834609, 0.69114185, 0.69305474, 0.69290759, 0.67274868,\n",
              "       0.65229547, 0.64729253, 0.64243673, 0.64140671, 0.64258387,\n",
              "       0.64302531, 0.63537375, 0.6274279 , 0.62389641, 0.62242496,\n",
              "       0.62007063, 0.61992348, 0.60962331, 0.59991171, 0.59417304,\n",
              "       0.59520306, 0.60108888, 0.60594467, 0.61506769, 0.62639788,\n",
              "       0.63375515, 0.64052384, 0.64699823, 0.65420836, 0.65612125,\n",
              "       0.65891701, 0.66215421, 0.68172454, 0.69849912, 0.70776928,\n",
              "       0.7243967 , 0.7451442 , 0.78266627, 0.78958211, 0.79664509,\n",
              "       0.79958799, 0.8009123 , 0.80223661, 0.80503237, 0.816804  ,\n",
              "       0.83975868, 0.85300177, 0.86668629, 0.85682755, 0.86227192,\n",
              "       0.87507357, 0.89537964, 0.90361978, 0.91347852, 0.92466157,\n",
              "       0.91509712, 0.9108299 , 0.90288405, 0.90361978, 0.90715127,\n",
              "       0.90965274, 0.89243673, 0.87139494, 0.88243084, 0.89405533,\n",
              "       0.90420836, 0.91024132, 0.91597999, 0.90847557, 0.88802237,\n",
              "       0.88449088, 0.88890524, 0.89449676, 0.90038258, 0.90406121,\n",
              "       0.89479105, 0.88669806, 0.88699235, 0.88949382, 0.89052384,\n",
              "       0.88581519, 0.87507357, 0.87065921, 0.86756916, 0.86183049,\n",
              "       0.85815185, 0.85756327, 0.85638611, 0.85623896, 0.86035903,\n",
              "       0.8693349 , 0.87566215, 0.88125368, 0.88346086, 0.89302531,\n",
              "       0.89758682, 0.91230135, 0.9283402 , 0.93716892, 0.95276633,\n",
              "       0.96041789, 0.98263685, 0.99705709, 1.        , 0.99396704,\n",
              "       0.98278399, 0.97012949, 0.94290759, 0.90582696, 0.8852266 ,\n",
              "       0.8806651 , 0.87492643, 0.850206  , 0.84373161, 0.82828134,\n",
              "       0.83652148, 0.84284873, 0.8534432 , 0.86183049, 0.87080636,\n",
              "       0.88375515, 0.90509123, 0.92539729, 0.93908181, 0.95203061,\n",
              "       0.95953502, 0.96130077, 0.94496763, 0.94217187, 0.94379046,\n",
              "       0.94290759, 0.92363155, 0.91553855, 0.89582107, 0.88802237,\n",
              "       0.88537375, 0.86580341, 0.85844614, 0.85005886, 0.84961742,\n",
              "       0.84917599, 0.84829311, 0.85035315, 0.8534432 , 0.86433196,\n",
              "       0.88537375, 0.9027369 , 0.9218658 , 0.94599765, 0.96027075,\n",
              "       0.96806945, 0.93246027, 0.92525015, 0.9283402 , 0.92848735,\n",
              "       0.92554444, 0.90450265, 0.88949382, 0.87124779, 0.86683343,\n",
              "       0.86756916, 0.87448499, 0.88037081, 0.88419659, 0.88655091,\n",
              "       0.88743378, 0.87154208, 0.87639788, 0.89376104])"
            ]
          },
          "metadata": {},
          "execution_count": 12
        }
      ]
    },
    {
      "cell_type": "code",
      "source": [
        "print(X_train.shape)\n",
        "print(y_train.shape)"
      ],
      "metadata": {
        "colab": {
          "base_uri": "https://localhost:8080/"
        },
        "id": "Zr1gM-75zu-9",
        "outputId": "3c36fca2-cee7-48ac-e21f-d1ee6a654adf"
      },
      "execution_count": 13,
      "outputs": [
        {
          "output_type": "stream",
          "name": "stdout",
          "text": [
            "(424, 100, 1)\n",
            "(424,)\n"
          ]
        }
      ]
    },
    {
      "cell_type": "markdown",
      "source": [
        "# LSTM"
      ],
      "metadata": {
        "id": "nXJL_gQlzyKi"
      }
    },
    {
      "cell_type": "code",
      "source": [
        "X_train =X_train.reshape(X_train.shape[0],X_train.shape[1] , 1)\n",
        "X_test = X_test.reshape(X_test.shape[0],X_test.shape[1] , 1)"
      ],
      "metadata": {
        "id": "c0OnJgcJz2EK"
      },
      "execution_count": 14,
      "outputs": []
    },
    {
      "cell_type": "code",
      "source": [
        "X_train.shape"
      ],
      "metadata": {
        "colab": {
          "base_uri": "https://localhost:8080/"
        },
        "id": "TDTRXaCxFGXe",
        "outputId": "6056ec44-c75e-4e15-9b43-839674f92df8"
      },
      "execution_count": 15,
      "outputs": [
        {
          "output_type": "execute_result",
          "data": {
            "text/plain": [
              "(424, 100, 1)"
            ]
          },
          "metadata": {},
          "execution_count": 15
        }
      ]
    },
    {
      "cell_type": "code",
      "source": [
        "from tensorflow.keras.models import Sequential\n",
        "\n",
        "from tensorflow.keras.layers import Dense\n",
        "from tensorflow.keras.layers import LSTM\n",
        "model=Sequential()\n",
        "model.add(LSTM(50,return_sequences=True,input_shape=(100,1)))\n",
        "model.add(LSTM(50,return_sequences=True))\n",
        "model.add(LSTM(50))\n",
        "model.add(Dense(1))\n",
        "model.compile(loss='mean_squared_error',optimizer='adam')"
      ],
      "metadata": {
        "id": "l9BMNbI6yxXt"
      },
      "execution_count": 17,
      "outputs": []
    },
    {
      "cell_type": "code",
      "source": [
        "model.fit(X_train,y_train,validation_data=(X_test,ytest),epochs=100,batch_size=64,verbose=1)"
      ],
      "metadata": {
        "colab": {
          "base_uri": "https://localhost:8080/"
        },
        "id": "CxR-1gVAyxam",
        "outputId": "2604df67-bbe2-4ec1-d344-0345ba030207"
      },
      "execution_count": null,
      "outputs": [
        {
          "output_type": "stream",
          "name": "stdout",
          "text": [
            "Epoch 1/100\n",
            "7/7 [==============================] - 1s 197ms/step - loss: 0.0018 - val_loss: 0.0015\n",
            "Epoch 2/100\n",
            "7/7 [==============================] - 1s 186ms/step - loss: 0.0020 - val_loss: 0.0012\n",
            "Epoch 3/100\n",
            "7/7 [==============================] - 1s 184ms/step - loss: 0.0019 - val_loss: 0.0011\n",
            "Epoch 4/100\n",
            "7/7 [==============================] - 1s 185ms/step - loss: 0.0016 - val_loss: 0.0011\n",
            "Epoch 5/100\n",
            "7/7 [==============================] - 1s 189ms/step - loss: 0.0016 - val_loss: 0.0011\n",
            "Epoch 6/100\n",
            "7/7 [==============================] - 1s 220ms/step - loss: 0.0016 - val_loss: 0.0010\n",
            "Epoch 7/100\n",
            "7/7 [==============================] - 3s 377ms/step - loss: 0.0015 - val_loss: 0.0010\n",
            "Epoch 8/100\n",
            "7/7 [==============================] - 2s 215ms/step - loss: 0.0015 - val_loss: 0.0014\n",
            "Epoch 9/100\n",
            "7/7 [==============================] - 2s 251ms/step - loss: 0.0015 - val_loss: 0.0010\n",
            "Epoch 10/100\n",
            "7/7 [==============================] - 1s 194ms/step - loss: 0.0015 - val_loss: 9.8704e-04\n",
            "Epoch 11/100\n",
            "7/7 [==============================] - 1s 185ms/step - loss: 0.0014 - val_loss: 9.3262e-04\n",
            "Epoch 12/100\n",
            "7/7 [==============================] - 1s 185ms/step - loss: 0.0013 - val_loss: 0.0011\n",
            "Epoch 13/100\n",
            "7/7 [==============================] - 1s 188ms/step - loss: 0.0013 - val_loss: 9.9196e-04\n",
            "Epoch 14/100\n",
            "7/7 [==============================] - 4s 605ms/step - loss: 0.0013 - val_loss: 9.4229e-04\n",
            "Epoch 15/100\n",
            "7/7 [==============================] - 4s 621ms/step - loss: 0.0012 - val_loss: 9.2470e-04\n",
            "Epoch 16/100\n",
            "7/7 [==============================] - 1s 187ms/step - loss: 0.0012 - val_loss: 8.5479e-04\n",
            "Epoch 17/100\n",
            "7/7 [==============================] - 1s 183ms/step - loss: 0.0012 - val_loss: 8.5742e-04\n",
            "Epoch 18/100\n",
            "7/7 [==============================] - 1s 190ms/step - loss: 0.0012 - val_loss: 8.7873e-04\n",
            "Epoch 19/100\n",
            "7/7 [==============================] - 1s 182ms/step - loss: 0.0011 - val_loss: 8.5579e-04\n",
            "Epoch 20/100\n",
            "7/7 [==============================] - 1s 183ms/step - loss: 0.0011 - val_loss: 9.3790e-04\n",
            "Epoch 21/100\n",
            "7/7 [==============================] - 1s 184ms/step - loss: 0.0012 - val_loss: 7.6778e-04\n",
            "Epoch 22/100\n",
            "7/7 [==============================] - 1s 182ms/step - loss: 0.0011 - val_loss: 0.0010\n",
            "Epoch 23/100\n",
            "7/7 [==============================] - 2s 240ms/step - loss: 0.0013 - val_loss: 0.0015\n",
            "Epoch 24/100\n",
            "7/7 [==============================] - 2s 307ms/step - loss: 0.0013 - val_loss: 7.3657e-04\n",
            "Epoch 25/100\n",
            "7/7 [==============================] - 2s 214ms/step - loss: 0.0011 - val_loss: 7.6700e-04\n",
            "Epoch 26/100\n",
            "7/7 [==============================] - 1s 182ms/step - loss: 0.0012 - val_loss: 0.0011\n",
            "Epoch 27/100\n",
            "7/7 [==============================] - 1s 183ms/step - loss: 0.0012 - val_loss: 7.1879e-04\n",
            "Epoch 28/100\n",
            "7/7 [==============================] - 1s 184ms/step - loss: 0.0011 - val_loss: 7.3143e-04\n",
            "Epoch 29/100\n",
            "7/7 [==============================] - 1s 182ms/step - loss: 0.0013 - val_loss: 7.0457e-04\n",
            "Epoch 30/100\n",
            "7/7 [==============================] - 1s 186ms/step - loss: 0.0013 - val_loss: 0.0010\n",
            "Epoch 31/100\n",
            "7/7 [==============================] - 1s 184ms/step - loss: 0.0013 - val_loss: 9.4054e-04\n",
            "Epoch 32/100\n",
            "7/7 [==============================] - 1s 187ms/step - loss: 0.0013 - val_loss: 6.8913e-04\n",
            "Epoch 33/100\n",
            "7/7 [==============================] - 2s 287ms/step - loss: 0.0012 - val_loss: 0.0010\n",
            "Epoch 34/100\n",
            "7/7 [==============================] - 2s 301ms/step - loss: 0.0011 - val_loss: 0.0015\n",
            "Epoch 35/100\n",
            "7/7 [==============================] - 1s 187ms/step - loss: 0.0011 - val_loss: 7.9158e-04\n",
            "Epoch 36/100\n",
            "7/7 [==============================] - 1s 194ms/step - loss: 9.4665e-04 - val_loss: 7.1781e-04\n",
            "Epoch 37/100\n",
            "7/7 [==============================] - 1s 184ms/step - loss: 0.0011 - val_loss: 7.3238e-04\n",
            "Epoch 38/100\n",
            "7/7 [==============================] - 1s 183ms/step - loss: 0.0010 - val_loss: 6.7376e-04\n",
            "Epoch 39/100\n",
            "7/7 [==============================] - 1s 188ms/step - loss: 9.1158e-04 - val_loss: 7.8264e-04\n",
            "Epoch 40/100\n",
            "7/7 [==============================] - 1s 181ms/step - loss: 8.7303e-04 - val_loss: 6.0183e-04\n",
            "Epoch 41/100\n",
            "7/7 [==============================] - 1s 210ms/step - loss: 8.4173e-04 - val_loss: 5.6759e-04\n",
            "Epoch 42/100\n",
            "7/7 [==============================] - 1s 209ms/step - loss: 8.3808e-04 - val_loss: 5.7742e-04\n",
            "Epoch 43/100\n",
            "7/7 [==============================] - 2s 296ms/step - loss: 8.0967e-04 - val_loss: 5.5767e-04\n",
            "Epoch 44/100\n",
            "7/7 [==============================] - 2s 251ms/step - loss: 9.1858e-04 - val_loss: 5.4949e-04\n",
            "Epoch 45/100\n",
            "7/7 [==============================] - 1s 190ms/step - loss: 8.3351e-04 - val_loss: 6.3024e-04\n",
            "Epoch 46/100\n",
            "7/7 [==============================] - 1s 183ms/step - loss: 9.3812e-04 - val_loss: 5.3927e-04\n",
            "Epoch 47/100\n",
            "7/7 [==============================] - 1s 187ms/step - loss: 9.2911e-04 - val_loss: 6.7273e-04\n",
            "Epoch 48/100\n",
            "7/7 [==============================] - 1s 185ms/step - loss: 7.9384e-04 - val_loss: 6.4857e-04\n",
            "Epoch 49/100\n",
            "7/7 [==============================] - 1s 183ms/step - loss: 8.4247e-04 - val_loss: 5.6062e-04\n",
            "Epoch 50/100\n",
            "7/7 [==============================] - 1s 183ms/step - loss: 7.7128e-04 - val_loss: 6.6202e-04\n",
            "Epoch 51/100\n",
            "7/7 [==============================] - 1s 183ms/step - loss: 7.6571e-04 - val_loss: 4.9102e-04\n",
            "Epoch 52/100\n",
            "7/7 [==============================] - 2s 263ms/step - loss: 7.3358e-04 - val_loss: 4.8269e-04\n",
            "Epoch 53/100\n",
            "7/7 [==============================] - 2s 297ms/step - loss: 7.7080e-04 - val_loss: 4.9721e-04\n",
            "Epoch 54/100\n",
            "7/7 [==============================] - 1s 202ms/step - loss: 8.5313e-04 - val_loss: 7.8611e-04\n",
            "Epoch 55/100\n",
            "7/7 [==============================] - 1s 184ms/step - loss: 8.9136e-04 - val_loss: 4.8823e-04\n",
            "Epoch 56/100\n",
            "7/7 [==============================] - 1s 183ms/step - loss: 7.5735e-04 - val_loss: 6.3558e-04\n",
            "Epoch 57/100\n",
            "7/7 [==============================] - 1s 183ms/step - loss: 6.7904e-04 - val_loss: 4.7964e-04\n",
            "Epoch 58/100\n",
            "7/7 [==============================] - 1s 184ms/step - loss: 6.8837e-04 - val_loss: 8.2578e-04\n",
            "Epoch 59/100\n",
            "7/7 [==============================] - 1s 181ms/step - loss: 7.6378e-04 - val_loss: 4.4271e-04\n",
            "Epoch 60/100\n",
            "7/7 [==============================] - 1s 181ms/step - loss: 7.5176e-04 - val_loss: 7.6598e-04\n",
            "Epoch 61/100\n",
            "7/7 [==============================] - 1s 185ms/step - loss: 9.2538e-04 - val_loss: 6.8365e-04\n",
            "Epoch 62/100\n",
            "7/7 [==============================] - 2s 288ms/step - loss: 7.7712e-04 - val_loss: 5.3485e-04\n",
            "Epoch 63/100\n",
            "7/7 [==============================] - 2s 312ms/step - loss: 7.1655e-04 - val_loss: 5.1485e-04\n",
            "Epoch 64/100\n",
            "7/7 [==============================] - 1s 183ms/step - loss: 7.0017e-04 - val_loss: 4.6402e-04\n",
            "Epoch 65/100\n",
            "7/7 [==============================] - 1s 187ms/step - loss: 6.2847e-04 - val_loss: 4.3941e-04\n",
            "Epoch 66/100\n",
            "7/7 [==============================] - 1s 191ms/step - loss: 6.2646e-04 - val_loss: 4.6929e-04\n",
            "Epoch 67/100\n",
            "7/7 [==============================] - 1s 184ms/step - loss: 5.9921e-04 - val_loss: 4.0144e-04\n",
            "Epoch 68/100\n",
            "7/7 [==============================] - 1s 186ms/step - loss: 6.0175e-04 - val_loss: 4.3285e-04\n",
            "Epoch 69/100\n",
            "7/7 [==============================] - 1s 184ms/step - loss: 6.2464e-04 - val_loss: 3.9907e-04\n",
            "Epoch 70/100\n",
            "7/7 [==============================] - 1s 184ms/step - loss: 6.1156e-04 - val_loss: 3.9442e-04\n",
            "Epoch 71/100\n",
            "7/7 [==============================] - 1s 220ms/step - loss: 5.7167e-04 - val_loss: 3.9668e-04\n",
            "Epoch 72/100\n",
            "7/7 [==============================] - 2s 311ms/step - loss: 5.6338e-04 - val_loss: 5.6630e-04\n",
            "Epoch 73/100\n",
            "7/7 [==============================] - 2s 261ms/step - loss: 5.9344e-04 - val_loss: 3.8393e-04\n",
            "Epoch 74/100\n",
            "7/7 [==============================] - 1s 185ms/step - loss: 6.3060e-04 - val_loss: 6.6851e-04\n",
            "Epoch 75/100\n",
            "7/7 [==============================] - 1s 185ms/step - loss: 6.9348e-04 - val_loss: 6.4664e-04\n",
            "Epoch 76/100\n",
            "7/7 [==============================] - 1s 185ms/step - loss: 7.3418e-04 - val_loss: 4.4927e-04\n",
            "Epoch 77/100\n",
            "7/7 [==============================] - 1s 184ms/step - loss: 5.9648e-04 - val_loss: 7.2912e-04\n",
            "Epoch 78/100\n",
            "7/7 [==============================] - 1s 182ms/step - loss: 7.4088e-04 - val_loss: 0.0015\n",
            "Epoch 79/100\n",
            "7/7 [==============================] - 1s 184ms/step - loss: 8.1166e-04 - val_loss: 3.4325e-04\n",
            "Epoch 80/100\n",
            "7/7 [==============================] - 1s 187ms/step - loss: 6.3364e-04 - val_loss: 3.7605e-04\n",
            "Epoch 81/100\n",
            "7/7 [==============================] - 2s 284ms/step - loss: 5.8606e-04 - val_loss: 5.9388e-04\n",
            "Epoch 82/100\n",
            "7/7 [==============================] - 2s 313ms/step - loss: 6.5893e-04 - val_loss: 6.2768e-04\n",
            "Epoch 83/100\n",
            "7/7 [==============================] - 1s 186ms/step - loss: 8.4359e-04 - val_loss: 4.0184e-04\n",
            "Epoch 84/100\n",
            "7/7 [==============================] - 1s 187ms/step - loss: 7.3363e-04 - val_loss: 6.5913e-04\n",
            "Epoch 85/100\n",
            "7/7 [==============================] - 1s 193ms/step - loss: 6.9039e-04 - val_loss: 3.3423e-04\n",
            "Epoch 86/100\n",
            "7/7 [==============================] - 1s 187ms/step - loss: 5.1065e-04 - val_loss: 4.1094e-04\n",
            "Epoch 87/100\n",
            "7/7 [==============================] - 1s 186ms/step - loss: 4.9414e-04 - val_loss: 3.2239e-04\n",
            "Epoch 88/100\n",
            "7/7 [==============================] - 1s 186ms/step - loss: 4.7395e-04 - val_loss: 4.6862e-04\n",
            "Epoch 89/100\n",
            "7/7 [==============================] - 1s 214ms/step - loss: 4.8113e-04 - val_loss: 4.0388e-04\n",
            "Epoch 90/100\n",
            "7/7 [==============================] - 2s 244ms/step - loss: 6.1831e-04 - val_loss: 3.3974e-04\n",
            "Epoch 91/100\n",
            "7/7 [==============================] - 2s 305ms/step - loss: 4.7089e-04 - val_loss: 3.3438e-04\n",
            "Epoch 92/100\n",
            "7/7 [==============================] - 2s 226ms/step - loss: 4.5332e-04 - val_loss: 3.3566e-04\n",
            "Epoch 93/100\n",
            "7/7 [==============================] - 1s 184ms/step - loss: 4.6686e-04 - val_loss: 3.1621e-04\n",
            "Epoch 94/100\n",
            "7/7 [==============================] - 1s 185ms/step - loss: 5.8238e-04 - val_loss: 4.7559e-04\n",
            "Epoch 95/100\n",
            "7/7 [==============================] - 1s 184ms/step - loss: 5.8891e-04 - val_loss: 4.3010e-04\n",
            "Epoch 96/100\n",
            "7/7 [==============================] - 1s 187ms/step - loss: 5.5711e-04 - val_loss: 5.5464e-04\n",
            "Epoch 97/100\n",
            "7/7 [==============================] - 1s 185ms/step - loss: 5.5876e-04 - val_loss: 2.8574e-04\n",
            "Epoch 98/100\n",
            "7/7 [==============================] - 1s 186ms/step - loss: 4.2989e-04 - val_loss: 2.8366e-04\n",
            "Epoch 99/100\n",
            "7/7 [==============================] - 1s 187ms/step - loss: 4.4239e-04 - val_loss: 2.7725e-04\n",
            "Epoch 100/100\n",
            "7/7 [==============================] - 2s 293ms/step - loss: 4.1036e-04 - val_loss: 2.8566e-04\n"
          ]
        },
        {
          "output_type": "execute_result",
          "data": {
            "text/plain": [
              "<keras.src.callbacks.History at 0x7e3ddd9a1690>"
            ]
          },
          "metadata": {},
          "execution_count": 27
        }
      ]
    },
    {
      "cell_type": "code",
      "source": [
        "### Lets Do the prediction and check performance metrics\n",
        "train_predict=model.predict(X_train)\n",
        "test_predict=model.predict(X_test)"
      ],
      "metadata": {
        "colab": {
          "base_uri": "https://localhost:8080/"
        },
        "id": "bcnSNnzOz6sf",
        "outputId": "74a229d1-5715-43a9-8e50-3fccc4c697b2"
      },
      "execution_count": null,
      "outputs": [
        {
          "output_type": "stream",
          "name": "stdout",
          "text": [
            "14/14 [==============================] - 2s 36ms/step\n",
            "6/6 [==============================] - 0s 36ms/step\n"
          ]
        }
      ]
    },
    {
      "cell_type": "code",
      "source": [
        "##Transformback to original form\n",
        "train_predict=scaler.inverse_transform(train_predict)\n",
        "test_predict=scaler.inverse_transform(test_predict)"
      ],
      "metadata": {
        "id": "Emd0XO1N2bNz"
      },
      "execution_count": null,
      "outputs": []
    },
    {
      "cell_type": "code",
      "source": [
        "### Plotting\n",
        "# shift train predictions for plotting\n",
        "import matplotlib.pyplot as plt\n",
        "plt.figure(figsize=(15,5))\n",
        "look_back=100\n",
        "trainPredictPlot = numpy.empty_like(df)\n",
        "trainPredictPlot[:, :] = np.nan\n",
        "trainPredictPlot[look_back:len(train_predict)+look_back, :] = train_predict\n",
        "# shift test predictions for plotting\n",
        "testPredictPlot = numpy.empty_like(df)\n",
        "testPredictPlot[:, :] = numpy.nan\n",
        "testPredictPlot[len(train_predict)+(look_back*2)+1:len(df)-1, :] = test_predict\n",
        "# plot baseline and predictions\n",
        "plt.plot(scaler.inverse_transform(df))\n",
        "plt.plot(trainPredictPlot,label = \"train data\")\n",
        "plt.plot(testPredictPlot,label = \"forecasted\")\n",
        "plt.legend()\n",
        "plt.xticks([])\n",
        "\n",
        "plt.show()"
      ],
      "metadata": {
        "colab": {
          "base_uri": "https://localhost:8080/",
          "height": 422
        },
        "id": "3RUKCqna2bQt",
        "outputId": "9c95b83f-305a-4ad8-f1d2-d037fb851383"
      },
      "execution_count": null,
      "outputs": [
        {
          "output_type": "display_data",
          "data": {
            "text/plain": [
              "<Figure size 1500x500 with 1 Axes>"
            ],
            "image/png": "[encoded data removed]"
          },
          "metadata": {}
        }
      ]
    },
    {
      "cell_type": "code",
      "source": [
        "model.save(\"petrol price prediction\")"
      ],
      "metadata": {
        "id": "1_GR9kHj2bWK"
      },
      "execution_count": null,
      "outputs": []
    },
    {
      "cell_type": "code",
      "source": [],
      "metadata": {
        "id": "k4qRoBg6DOY0"
      },
      "execution_count": null,
      "outputs": []
    }
  ]
}